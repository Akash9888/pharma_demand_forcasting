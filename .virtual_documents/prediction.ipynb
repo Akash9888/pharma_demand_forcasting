import kagglehub
import os
import pandas as pd
import numpy as np
import matplotlib.pyplot as plt
import seaborn as sns
from sklearn.model_selection import train_test_split, RandomizedSearchCV
from sklearn.metrics import mean_absolute_error, mean_squared_error, r2_score
from sklearn.linear_model import LinearRegression
from sklearn.tree import DecisionTreeRegressor
from sklearn.ensemble import RandomForestRegressor, GradientBoostingRegressor
from sklearn.model_selection import RandomizedSearchCV
import joblib
from statsmodels.stats.outliers_influence import variance_inflation_factor
from statsmodels.tools.tools import add_constant
import xgboost as xgb
from sklearn.preprocessing import StandardScaler


path = kagglehub.dataset_download("krishangupta33/pharmaceutical-company-wholesale-retail-data")
print("Path to dataset files:", path)


files = os.listdir(path)
print("Files Folder:", files)


file_path=os.path.join(path,"pharma-data.csv")
df=pd.read_csv(file_path)
df.head()



