{
 "cells": [
  {
   "cell_type": "code",
   "id": "initial_id",
   "metadata": {
    "collapsed": true,
    "jupyter": {
     "is_executing": true
    }
   },
   "source": [
    "import os\n",
    "import numpy as np\n",
    "import pandas as pd\n",
    "import matplotlib.pyplot as plt\n",
    "import seaborn as sns\n",
    "import shap\n",
    "import kagglehub\n",
    "\n",
    "\n",
    "from sklearn.compose import ColumnTransformer\n",
    "from sklearn.preprocessing import OneHotEncoder, StandardScaler\n",
    "from sklearn.pipeline import Pipeline\n",
    "\n",
    "\n",
    "from sklearn.tree import DecisionTreeRegressor\n",
    "from sklearn.ensemble import RandomForestRegressor, GradientBoostingRegressor\n",
    "from xgboost import XGBRegressor\n",
    "from lightgbm import LGBMRegressor\n",
    "from catboost import CatBoostRegressor\n",
    "\n",
    "from sklearn.model_selection import cross_validate\n",
    "from sklearn.metrics import r2_score, mean_squared_error\n",
    "\n",
    "\n",
    "from sklearn.cluster import KMeans\n",
    "from statsmodels.tools.tools import add_constant\n",
    "from statsmodels.stats.outliers_influence import variance_inflation_factor\n"
   ],
   "outputs": [],
   "execution_count": null
  },
  {
   "metadata": {},
   "cell_type": "code",
   "source": [
    "path = kagglehub.dataset_download(\"krishangupta33/pharmaceutical-company-wholesale-retail-data\")\n",
    "print(\"Path to dataset files:\", path)"
   ],
   "id": "85bffabcfd2904f9",
   "outputs": [],
   "execution_count": null
  },
  {
   "metadata": {
    "jupyter": {
     "is_executing": true
    }
   },
   "cell_type": "code",
   "source": [
    "files = os.listdir(path)\n",
    "print(\"Files Folder:\", files)"
   ],
   "id": "cc22349e4a94cce6",
   "outputs": [],
   "execution_count": null
  },
  {
   "metadata": {
    "jupyter": {
     "is_executing": true
    }
   },
   "cell_type": "code",
   "source": [
    "file_path=os.path.join(path,\"pharma-data.csv\")\n",
    "df=pd.read_csv(file_path)\n",
    "df.head()"
   ],
   "id": "20250bf0af0781e7",
   "outputs": [],
   "execution_count": null
  },
  {
   "metadata": {},
   "cell_type": "code",
   "outputs": [],
   "execution_count": null,
   "source": "df.drop_duplicates(inplace=True)",
   "id": "b21020f652eec681"
  },
  {
   "metadata": {},
   "cell_type": "code",
   "outputs": [],
   "execution_count": null,
   "source": "df['Product Name'].nunique()",
   "id": "35f5f274783f83ce"
  },
  {
   "metadata": {},
   "cell_type": "code",
   "outputs": [],
   "execution_count": null,
   "source": "print(\"Missing Values:\", df.isnull().sum())",
   "id": "b64e0faaa4c9d7cb"
  },
  {
   "metadata": {},
   "cell_type": "code",
   "outputs": [],
   "execution_count": null,
   "source": [
    "#drop high cardinality cols\n",
    "to_drop=['Customer Name','Name of Sales Rep','Manager','Sales Team','City']\n",
    "df.drop(columns=to_drop,inplace=True)\n",
    "df.head()"
   ],
   "id": "2640df40cdd43ecc"
  },
  {
   "metadata": {},
   "cell_type": "code",
   "outputs": [],
   "execution_count": null,
   "source": [
    "plt.figure(figsize=(10, 6))\n",
    "sns.heatmap(df.corr(numeric_only=True), annot=True, cmap='coolwarm')\n",
    "plt.title(\"Correlation Matrix\")\n",
    "plt.show()"
   ],
   "id": "1bdd098dd1d9f2c4"
  },
  {
   "metadata": {},
   "cell_type": "code",
   "outputs": [],
   "execution_count": null,
   "source": [
    "\n",
    "\n",
    "def preprocess_dataframe(df):\n",
    "    df_modify = df.copy()\n",
    "\n",
    "\n",
    "    #replace infinities with NaN\n",
    "    df_modify.replace([np.inf, -np.inf], np.nan, inplace=True)\n",
    "\n",
    "    # Cap outliers\n",
    "    def cap_outliers(column):\n",
    "        Q1 = df_modify[column].quantile(0.25)\n",
    "        Q3 = df_modify[column].quantile(0.75)\n",
    "        IQR = Q3 - Q1\n",
    "        lower_bound = Q1 - 1.5 * IQR\n",
    "        upper_bound = Q3 + 1.5 * IQR\n",
    "        before_outliers = ((df_modify[column] < lower_bound) | (df_modify[column] > upper_bound)).sum()\n",
    "        df_modify[column] = np.clip(df_modify[column], lower_bound, upper_bound)\n",
    "        print(f\"{column}: capped {before_outliers} outliers\")\n",
    "\n",
    "    for col in ['Quantity', 'Price', 'Sales']:\n",
    "        if col in df_modify.columns:\n",
    "            cap_outliers(col)\n",
    "\n",
    "    # Create new features\n",
    "    df_modify[\"Sales_per_Unit\"]=df_modify.apply(\n",
    "        lambda row:row['Sales']/row['Quantity'] if row['Quantity']>0 else np.nan , axis=1)\n",
    "    df_modify['Sales']=df_modify['Sales'].clip(lower=1e-5)\n",
    "    df_modify['Log_Sales']=np.log1p(df_modify['Sales'])\n",
    "\n",
    "    month_mapping={\n",
    "        \"January\": 1, \"February\": 2, \"March\": 3, \"April\": 4,\n",
    "        \"May\": 5, \"June\": 6, \"July\": 7, \"August\": 8,\n",
    "        \"September\": 9, \"October\": 10, \"November\": 11, \"December\": 12\n",
    "    }\n",
    "    df_modify['Month'] = df_modify['Month'].map(month_mapping)\n",
    "    df_modify['Month_sin'] = np.sin(2 * np.pi * df_modify['Month'] / 12)\n",
    "    df_modify['Month_cos'] = np.cos(2 * np.pi * df_modify['Month'] / 12)\n",
    "    # df_modify['Year'] = df_modify['Year'] - df_modify['Year'].min()\n",
    "\n",
    "    # Step 4: Drop rows with missing values in critical columns\n",
    "    df_modify.dropna(subset=[\n",
    "        'Quantity', 'Price', 'Sales', 'Sales_per_Unit',\n",
    "        'Log_Sales', 'Month_sin', 'Month_cos', 'Year'\n",
    "    ], inplace=True)\n",
    "\n",
    "    # scaler = StandardScaler()\n",
    "    # df_modify[['Latitude', 'Longitude']] = scaler.fit_transform(df_modify[['Latitude', 'Longitude']])\n",
    "\n",
    "    coords = df_modify[['Latitude', 'Longitude']]\n",
    "    kmeans = KMeans(n_clusters=5, random_state=42)\n",
    "    df_modify['Region'] = kmeans.fit_predict(coords)\n",
    "\n",
    "    df_modify= pd.get_dummies(df_modify, columns=['Region'], drop_first=True)\n",
    "\n",
    "    vif_cols = ['Quantity', 'Price', 'Sales', 'Sales_per_Unit', 'Log_Sales', 'Month_sin', 'Month_cos', 'Year']\n",
    "    X = add_constant(df_modify[vif_cols])\n",
    "    vif_data = pd.DataFrame({\n",
    "        \"Feature\": X.columns,\n",
    "        \"VIF\": [variance_inflation_factor(X.values, i) for i in range(X.shape[1])]\n",
    "    })\n",
    "    df_modify.head(2)\n",
    "\n",
    "\n",
    "\n",
    "\n",
    "    return df_modify,vif_data\n"
   ],
   "id": "dc5e6ba8aeb8cc4d"
  }
 ],
 "metadata": {
  "kernelspec": {
   "display_name": "Python 3",
   "language": "python",
   "name": "python3"
  },
  "language_info": {
   "codemirror_mode": {
    "name": "ipython",
    "version": 2
   },
   "file_extension": ".py",
   "mimetype": "text/x-python",
   "name": "python",
   "nbconvert_exporter": "python",
   "pygments_lexer": "ipython2",
   "version": "2.7.6"
  }
 },
 "nbformat": 4,
 "nbformat_minor": 5
}
